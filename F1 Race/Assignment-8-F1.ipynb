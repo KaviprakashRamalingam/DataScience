{
 "cells": [
  {
   "cell_type": "markdown",
   "id": "efc52af2",
   "metadata": {},
   "source": [
    "<div style=\"text-align: right\">INFO 6105 Data Sci Engineering Methods and Tools, Week 5 Homework</div>\n",
    "<div style=\"text-align: right\">Dino Konstantopoulos, 4 February 2024</div>\n",
    "\n",
    "OMG, Lewis Hamilton leaves Mercedes and [joins](https://www.cnn.com/2024/02/01/sport/lewis-hamilton-ferrari-mercedes-f1-spt-intl/index.html) Ferrari!\n",
    "<center>\n",
    "<img src = images/toon-shock.png width = 400 />\n",
    "</center>\n",
    "\n",
    "Of course, we *all* know who's *still* going to win next season, don't we?\n",
    "\n",
    "<br />\n",
    "<center>\n",
    "<img src = images/maxv-toon.webp width = 400 />\n",
    "</center>"
   ]
  },
  {
   "cell_type": "markdown",
   "id": "3e3ddbbd",
   "metadata": {},
   "source": [
    "# Homework\n",
    "\n",
    "The [first F1 race](https://www.espn.com/f1/race/_/id/600041133) of the year is coming up!\n",
    "\n",
    "[This](https://www.formula1.com/en/racing/2024.html) is the schedule for F1 races for 2024, so Bahrain is coming up first, followed by Saudi Arabia and then Australia.\n",
    "\n",
    "The great Max Verstappen and his team (Red Bull) will once again lead all drivers, but... Lewis H. will try to put a stop at this!\n",
    "<center>\n",
    "<img src = images/lewishf-toon.png width = 600 />\n",
    "</center>\n",
    "<br />\n",
    "\n",
    "## Question 1 (20 points) \n",
    "Will [Max Verstappen](https://www.formula1.com/en/drivers/max-verstappen.html) rocks! win it all again in 2024? The first three F1 races are **Bahrain**, **Saudi Arabia**, and **Australia**! The 2023 driver standings are given [here](https://www.formula1.com/en/results.html/2023/drivers.html). \n",
    "\n",
    "Given these standings (***do not use team standings given on the same Web site, use driver standings***), what is the Probability Distribution for each F1 driver to win the Bahrain Grand Prix? What is the Probability Distribution for each F1 driver to win *both* the Bahrain and the Saudi Arabian Grand Prix? What is the Probability Distribution for each F1 driver to win the Bahrain, the Saudi Arabian, *and* the Australian Grand Prix? What is the probability for Red Bull to win all three races? What is the probability for Red Bull to win at least one race, at least two races, and at most two races? Note that Red Bull and all other racing teams have two drivers per race.\n",
    "\n",
    "## Question 2 (20 points) \n",
    "If Red Bull wins the first race, what is the probability that Red Bull wins the next two? If Red Bull wins at least one of these three races, what is the probability Red Bull wins all three? How about Ferrari, Mercedes, and Alfa Romeo?\n",
    "\n",
    "## Question 3 (40 points)\n",
    "Red Bull wins one of these three races on a rainy day. What is the probability Red Bull wins all three, assuming races can be held on either rainy, sunny, cloudy, snowy or foggy days? Assume that rain, sun, clouds, snow, and fog are the only possible weather conditions on race tracks and there is an equal probability for each one of these weather events.\n",
    "\n",
    "## Question 4 (20 points) Is it the car, or is it the driver?\n",
    "Lewis will  be joining Ferrari, and that is the *big* unknown for the '24 season. What is in your opinion the best way to predict how Lewis + Ferrari will fair, based on the the [2023 standings](https://www.formula1.com/en/results.html/2023/drivers.html), and any other statistics you can gather from that Web site?\n",
    "\n",
    "You need to provide *proof* for your answers by using code, in the form of a function. `I think it's one in a million because Ferrari sucks` is not a good answer.\n",
    "\n",
    "Even though standings are bound to change with the results of the first races, please assume that the standinds that you will use to predict results will *not change* and will be based on the results of the '23 season.\n",
    "\n",
    "Here's how you could begin to count the frequencies of wins for each driver in 2023 and renormalize into a probability distribution to predict probabilities of winning Bahrain"
   ]
  },
  {
   "cell_type": "code",
   "execution_count": 22,
   "id": "ac160c33",
   "metadata": {},
   "outputs": [],
   "source": [
    "class ProbDist(dict):\n",
    "    \"\"\"A Probability Distribution; an {outcome: probability} mapping.\"\"\"\n",
    "    def __init__(self, mapping=(), **kwargs):\n",
    "        self.update(mapping, **kwargs)\n",
    "        # Make probabilities sum to 1.0; assert no negative probabilities\n",
    "        total = sum(self.values())\n",
    "        for outcome in self:\n",
    "            self[outcome] = self[outcome] / total\n",
    "            assert self[outcome] >= 0"
   ]
  },
  {
   "cell_type": "code",
   "execution_count": 23,
   "id": "b524d7c5",
   "metadata": {},
   "outputs": [],
   "source": [
    "driver_points = {\n",
    "    'MV' : 575,\n",
    "    'SP' : 285,\n",
    "    'LH' : 234,\n",
    "    'FA' : 206,\n",
    "    'CL' : 206,\n",
    "    'CS' : 200,\n",
    "    'GR' : 175,\n",
    "    'OP' : 97,\n",
    "    'LS' : 74,\n",
    "    'PG' : 62,\n",
    "    'EO' : 58,\n",
    "    'AA' : 27,\n",
    "    'YT' : 17,\n",
    "    'VB' : 10,\n",
    "    'NH' : 9,\n",
    "    'DR' : 6,\n",
    "    'ZG' : 6,\n",
    "    'KM' : 3,\n",
    "    'LL' : 2,\n",
    "    'LSa' : 1,\n",
    "    'NDV' : 0}"
   ]
  },
  {
   "cell_type": "markdown",
   "id": "6374cac9",
   "metadata": {},
   "source": [
    "## Q1 \n",
    "### a)what is the Probability Distribution for each F1 driver to win the Bahrain Grand Prix?"
   ]
  },
  {
   "cell_type": "code",
   "execution_count": 24,
   "id": "25a73aed",
   "metadata": {},
   "outputs": [],
   "source": [
    "grandPixBahrainProbDist = ProbDist(driver_points)"
   ]
  },
  {
   "cell_type": "code",
   "execution_count": 25,
   "id": "199449a4",
   "metadata": {},
   "outputs": [
    {
     "data": {
      "text/plain": [
       "{'MV': 0.25521526853084775,\n",
       " 'SP': 0.12649800266311584,\n",
       " 'LH': 0.10386151797603196,\n",
       " 'FA': 0.09143364403018198,\n",
       " 'CL': 0.09143364403018198,\n",
       " 'CS': 0.0887705281846427,\n",
       " 'GR': 0.07767421216156237,\n",
       " 'OP': 0.04305370616955171,\n",
       " 'LS': 0.032845095428317796,\n",
       " 'PG': 0.027518863737239236,\n",
       " 'EO': 0.02574345317354638,\n",
       " 'AA': 0.011984021304926764,\n",
       " 'YT': 0.007545494895694629,\n",
       " 'VB': 0.004438526409232135,\n",
       " 'NH': 0.0039946737683089215,\n",
       " 'DR': 0.002663115845539281,\n",
       " 'ZG': 0.002663115845539281,\n",
       " 'KM': 0.0013315579227696406,\n",
       " 'LL': 0.000887705281846427,\n",
       " 'LSa': 0.0004438526409232135,\n",
       " 'NDV': 0.0}"
      ]
     },
     "execution_count": 25,
     "metadata": {},
     "output_type": "execute_result"
    }
   ],
   "source": [
    "grandPixBahrainProbDist"
   ]
  },
  {
   "cell_type": "markdown",
   "id": "4ed752f7",
   "metadata": {},
   "source": [
    "### b) What is the Probability Distribution for each F1 driver to win both the Bahrain and the Saudi Arabian Grand Prix?"
   ]
  },
  {
   "cell_type": "code",
   "execution_count": 26,
   "id": "24e3a07e",
   "metadata": {},
   "outputs": [
    {
     "data": {
      "text/plain": [
       "{'MV': 0.06513483329127273,\n",
       " 'SP': 0.01600174467775766,\n",
       " 'LH': 0.010787214916285611,\n",
       " 'FA': 0.008360111260638032,\n",
       " 'CL': 0.008360111260638032,\n",
       " 'CS': 0.007880206674180445,\n",
       " 'GR': 0.006033283234919403,\n",
       " 'OP': 0.001853621614934095,\n",
       " 'LS': 0.0010788002936953027,\n",
       " 'PG': 0.0007572878613887407,\n",
       " 'EO': 0.0006627253812985753,\n",
       " 'AA': 0.00014361676663693856,\n",
       " 'YT': 5.6934493220953704e-05,\n",
       " 'VB': 1.9700516685451112e-05,\n",
       " 'NH': 1.59574185152154e-05,\n",
       " 'DR': 7.092186006762401e-06,\n",
       " 'ZG': 7.092186006762401e-06,\n",
       " 'KM': 1.7730465016906002e-06,\n",
       " 'LL': 7.880206674180443e-07,\n",
       " 'LSa': 1.9700516685451109e-07,\n",
       " 'NDV': 0.0}"
      ]
     },
     "execution_count": 26,
     "metadata": {},
     "output_type": "execute_result"
    }
   ],
   "source": [
    "grandPixBahrainSaudiProbDist = {driver: prob**2 for driver, prob in grandPixBahrainProbDist.items()}\n",
    "grandPixBahrainSaudiProbDist"
   ]
  },
  {
   "cell_type": "markdown",
   "id": "145839cc",
   "metadata": {},
   "source": [
    "### c) What is the Probability Distribution for each F1 driver to win the Bahrain, the Saudi Arabian, and the Australian Grand Prix?"
   ]
  },
  {
   "cell_type": "code",
   "execution_count": 28,
   "id": "b4fcddc0",
   "metadata": {},
   "outputs": [
    {
     "data": {
      "text/plain": [
       "{'MV': 0.01662340396914417,\n",
       " 'SP': 0.0020241887408614886,\n",
       " 'LH': 0.001120376515939118,\n",
       " 'FA': 0.0007643954370578937,\n",
       " 'CL': 0.0007643954370578937,\n",
       " 'CS': 0.0006995301086711447,\n",
       " 'GR': 0.00046863052201992706,\n",
       " 'OP': 7.980528035890245e-05,\n",
       " 'LS': 3.5433298594519476e-05,\n",
       " 'PG': 2.0839701467422066e-05,\n",
       " 'EO': 1.706083982038054e-05,\n",
       " 'AA': 1.721106391121767e-06,\n",
       " 'YT': 4.295989279876667e-07,\n",
       " 'VB': 8.744126358389308e-08,\n",
       " 'NH': 6.374468115265805e-08,\n",
       " 'DR': 1.8887312934120907e-08,\n",
       " 'ZG': 1.8887312934120907e-08,\n",
       " 'KM': 2.3609141167651134e-09,\n",
       " 'LL': 6.995301086711445e-10,\n",
       " 'LSa': 8.744126358389306e-11,\n",
       " 'NDV': 0.0}"
      ]
     },
     "execution_count": 28,
     "metadata": {},
     "output_type": "execute_result"
    }
   ],
   "source": [
    "grandPixBahrainSaudiAustraliaProbDist = {driver: prob**3 for driver, prob in grandPixBahrainProbDist.items()}\n",
    "grandPixBahrainSaudiAustraliaProbDist"
   ]
  },
  {
   "cell_type": "markdown",
   "id": "87acb3f0",
   "metadata": {},
   "source": [
    "### d) What is the probability for Red Bull to win all three races? What is the probability for Red Bull to win at least one race, at least two races, and at most two races?"
   ]
  },
  {
   "cell_type": "code",
   "execution_count": 29,
   "id": "f6cd8b47",
   "metadata": {},
   "outputs": [],
   "source": [
    "def probOfRedBullWins(grandPixBahrainProbDist):\n",
    "    probOfRedBullWinOneRace = grandPixBahrainProbDist['MV'] + grandPixBahrainProbDist['SP']\n",
    "    probOfRedBullWinAllThree = probOfRedBullWinOneRace ** 3\n",
    "    probOfRedBullWinAtLeastOneRace = 1 - (1 - probOfRedBullWinOneRace) ** 3 \n",
    "    probOfRedBullWinOneRace2times = probOfRedBullWinOneRace * (1 - probOfRedBullWinOneRace) ** 2\n",
    "    probOfRedBullAtLeastTwo = 1 - ((1 - probOfRedBullWinOneRace) ** 3 + 3 * probOfRedBullWinOneRace2times)\n",
    "    probOfRedBullAtMostTwo = 1 - probOfRedBullWinAllThree\n",
    "    print(\"Probability of Red Bull winning all three races:\", probOfRedBullWinAllThree)\n",
    "    print(\"Probability of Red Bull winning at least one race:\", probOfRedBullWinAtLeastOneRace)\n",
    "    print(\"Probability of Red Bull winning at least two races:\", probOfRedBullAtLeastTwo)\n",
    "    print(\"Probability of Red Bull winning at most two races:\", probOfRedBullAtMostTwo)\n"
   ]
  },
  {
   "cell_type": "code",
   "execution_count": 30,
   "id": "cd33bbc0",
   "metadata": {},
   "outputs": [],
   "source": [
    "# GPDist = { v:driver_points[v]/1000 for k,v in enumerate(driver_points)}\n",
    "# probOfRedBullWins(GPDist)"
   ]
  },
  {
   "cell_type": "code",
   "execution_count": 31,
   "id": "ce95b9b1",
   "metadata": {},
   "outputs": [
    {
     "name": "stdout",
     "output_type": "stream",
     "text": [
      "Probability of Red Bull winning all three races: 0.055617540350116686\n",
      "Probability of Red Bull winning at least one race: 0.7636422897152183\n",
      "Probability of Red Bull winning at least two races: 0.3258799835165559\n",
      "Probability of Red Bull winning at most two races: 0.9443824596498833\n"
     ]
    }
   ],
   "source": [
    "probOfRedBullWins(grandPixBahrainProbDist)"
   ]
  },
  {
   "cell_type": "markdown",
   "id": "50f9e926",
   "metadata": {},
   "source": [
    "## Q2\n",
    "### If Red Bull wins the first race, what is the probability that Red Bull wins the next two? If Red Bull wins at least one of these three races, what is the probability Red Bull wins all three? How about Ferrari, Mercedes, and Alfa Romeo?"
   ]
  },
  {
   "cell_type": "code",
   "execution_count": 32,
   "id": "6724b21e",
   "metadata": {},
   "outputs": [
    {
     "name": "stdout",
     "output_type": "stream",
     "text": [
      "Probability that Red Bull wins the next two: 0.14570502140559638\n"
     ]
    }
   ],
   "source": [
    "#what is the probability that Red Bull wins the next two?\n",
    "probOfRedBullWinOneRace = grandPixBahrainProbDist['MV'] + grandPixBahrainProbDist['SP']\n",
    "probOfRedBullNextTwoIfWinFirst = probOfRedBullWinOneRace ** 2\n",
    "print(\"Probability that Red Bull wins the next two:\", probOfRedBullNextTwoIfWinFirst)"
   ]
  },
  {
   "cell_type": "code",
   "execution_count": 33,
   "id": "d326a97c",
   "metadata": {},
   "outputs": [
    {
     "name": "stdout",
     "output_type": "stream",
     "text": [
      "If Red Bull wins at least one of these three races the probability Red Bull wins all three: 0.0728319281150051\n"
     ]
    }
   ],
   "source": [
    "#If Red Bull wins at least one of these three races, what is the probability Red Bull wins all three\n",
    "probOfRedBullWinAllThree = probOfRedBullWinOneRace ** 3\n",
    "probOfRedBullWinAtLeastOneRace = 1 - (1 - probOfRedBullWinOneRace) ** 3\n",
    "probOfRedBullAllThreeIfAtLeastOne = probOfRedBullWinAllThree / probOfRedBullWinAtLeastOneRace\n",
    "print(\"If Red Bull wins at least one of these three races the probability Red Bull wins all three:\", probOfRedBullAllThreeIfAtLeastOne)"
   ]
  },
  {
   "cell_type": "markdown",
   "id": "9b4d2e03",
   "metadata": {},
   "source": [
    "## How about Ferrari, Mercedes, and Alfa Romeo?"
   ]
  },
  {
   "cell_type": "code",
   "execution_count": 34,
   "id": "0e529dcf",
   "metadata": {},
   "outputs": [],
   "source": [
    "FerrariDrivers = ['CL', 'CS'] \n",
    "MercedesDrivers = ['LH', 'GR']  \n",
    "AlfaDrivers = ['VB', 'ZG']  "
   ]
  },
  {
   "cell_type": "code",
   "execution_count": 35,
   "id": "28690fb2",
   "metadata": {},
   "outputs": [],
   "source": [
    "# Function to calculate a team probability of winning based on its drivers probability\n",
    "def SpecificWinProbabilitieBasedOnTeam(teamDrivers, probDist):\n",
    "    teamProbWinOneRace = sum(probDist[driver] for driver in teamDrivers)\n",
    "    probOfTeamAllThree = teamProbWinOneRace ** 3\n",
    "    probOfTeamAtLeastOne = 1 - (1 - teamProbWinOneRace) ** 3\n",
    "    probOfTeamAtLeastTwo = 1 - ((1 - teamProbWinOneRace) ** 3 + 3 * teamProbWinOneRace * (1 - teamProbWinOneRace) ** 2)\n",
    "    probOfTeamAtMostTwo = 1 - probOfTeamAllThree\n",
    "    return probOfTeamAllThree, probOfTeamAtLeastOne, probOfTeamAtLeastTwo, probOfTeamAtMostTwo"
   ]
  },
  {
   "cell_type": "code",
   "execution_count": 36,
   "id": "70cf13f8",
   "metadata": {},
   "outputs": [
    {
     "name": "stdout",
     "output_type": "stream",
     "text": [
      "Ferrari - All Three: 0.005851868058390527 \n",
      "Ferrari At Least One: 0.4490437536519739 \n",
      "Ferrari At Least Two: 0.08571689493410939 \n",
      "Ferrari At Most Two: 0.9941481319416094\n"
     ]
    }
   ],
   "source": [
    "# Ferrari Probabilites\n",
    "probOfFerrariAllThree, probOfFerrariAtLeastOne, probOfFerrariAtLeastTwo, probOfFerrariAtMostTwo = SpecificWinProbabilitieBasedOnTeam(FerrariDrivers, grandPixBahrainProbDist)\n",
    "print(\"Ferrari - All Three:\", probOfFerrariAllThree, \n",
    "      \"\\nFerrari At Least One:\", probOfFerrariAtLeastOne, \n",
    "      \"\\nFerrari At Least Two:\", probOfFerrariAtLeastTwo, \n",
    "      \"\\nFerrari At Most Two:\", probOfFerrariAtMostTwo)"
   ]
  },
  {
   "cell_type": "code",
   "execution_count": 37,
   "id": "002a9d2e",
   "metadata": {},
   "outputs": [
    {
     "name": "stdout",
     "output_type": "stream",
     "text": [
      "Mercedes - All Three: 0.005982550163553083 \n",
      "Mercedes At Least One: 0.45172407662656777 \n",
      "Mercedes At Least Two: 0.08690056362266252 \n",
      "Mercedes At Most Two: 0.9940174498364469\n"
     ]
    }
   ],
   "source": [
    "# Mercedes Probabilites\n",
    "probOfMercedesAllThree, probOfMercedesAtLeastOne, probOfMercedesAtLeastTwo, probOfMercedesAtMostTwo = SpecificWinProbabilitieBasedOnTeam(MercedesDrivers, grandPixBahrainProbDist)\n",
    "print(\"Mercedes - All Three:\", probOfMercedesAllThree,\n",
    "      \"\\nMercedes At Least One:\", probOfMercedesAtLeastOne, \n",
    "      \"\\nMercedes At Least Two:\", probOfMercedesAtLeastTwo, \n",
    "      \"\\nMercedes At Most Two:\", probOfMercedesAtMostTwo)"
   ]
  },
  {
   "cell_type": "code",
   "execution_count": 38,
   "id": "fd51ceb7",
   "metadata": {},
   "outputs": [
    {
     "name": "stdout",
     "output_type": "stream",
     "text": [
      "Alfa Romeo All Three: 3.58159415639626e-07 \n",
      "Alfa Romeo At Least One: 0.021153984955585514 \n",
      "Alfa Romeo At Least Two: 0.00015058364931286317 \n",
      "Alfa Romeo At Most Two: 0.9999996418405843\n"
     ]
    }
   ],
   "source": [
    "# Alfa Romeo Probabilites\n",
    "probOfAlfaAllThree, probOfAlfaAtLeastOne, probOfAlfaAtLeastTwo, probOfAlfaAtMostTwo = SpecificWinProbabilitieBasedOnTeam(AlfaDrivers, grandPixBahrainProbDist)\n",
    "print(\"Alfa Romeo All Three:\", probOfAlfaAllThree,\n",
    "      \"\\nAlfa Romeo At Least One:\", probOfAlfaAtLeastOne, \n",
    "      \"\\nAlfa Romeo At Least Two:\", probOfAlfaAtLeastTwo, \n",
    "      \"\\nAlfa Romeo At Most Two:\", probOfAlfaAtMostTwo)"
   ]
  },
  {
   "cell_type": "markdown",
   "id": "20f9dc76",
   "metadata": {},
   "source": [
    "## Q 3 \n",
    "\n",
    "### Red Bull wins one of these three races on a rainy day. What is the probability Red Bull wins all three, assuming races can be held on either rainy, sunny, cloudy, snowy or foggy days? Assume that rain, sun, clouds, snow, and fog are the only possible weather conditions on race tracks and there is an equal probability for each one of these weather events.\n"
   ]
  },
  {
   "cell_type": "markdown",
   "id": "8d2e4711",
   "metadata": {},
   "source": [
    "### Approch 1"
   ]
  },
  {
   "cell_type": "markdown",
   "id": "dcbd2663",
   "metadata": {},
   "source": [
    "* In this approach, the conditional probability is calculated using a class ProbDist to define probability distributions for weather conditions and driver performance in each race. \n",
    "* It then defines a joint probability distribution for Red Bull's performance in each race combined with weather conditions (SP). \n",
    "* The function p calculates the probability of events given a sample space, and predicates are defined to represent the events \"Red Bull wins at least one race on a rainy day\" and \"Red Bull wins all three races\". \n",
    "* Finally, the conditional probability is calculated based on these predicates."
   ]
  },
  {
   "cell_type": "markdown",
   "id": "b599ede2",
   "metadata": {},
   "source": [
    "This block defines a class ProbDist which inherits from the built-in dict class. It represents a Probability Distribution where each outcome is mapped to its probability.\n",
    "The __init__ method initializes the class by updating the mapping with given values, ensuring probabilities sum up to 1, and asserting non-negative probabilities."
   ]
  },
  {
   "cell_type": "code",
   "execution_count": 71,
   "id": "5d8b0fad",
   "metadata": {},
   "outputs": [],
   "source": [
    "class ProbDist(dict):\n",
    "    def __init__(self, mapping=(), **kwargs):\n",
    "        self.update(mapping, **kwargs)\n",
    "        total = sum(self.values())\n",
    "        for outcome in self:\n",
    "            self[outcome] = self[outcome] / total\n",
    "            assert self[outcome] >= 0"
   ]
  },
  {
   "cell_type": "markdown",
   "id": "ec6b3c3e",
   "metadata": {},
   "source": [
    "Define the probability distribution for weather conditions 1/5"
   ]
  },
  {
   "cell_type": "code",
   "execution_count": 72,
   "id": "47de1120",
   "metadata": {},
   "outputs": [],
   "source": [
    "weather = ProbDist(\n",
    "    Rainy=0.2,\n",
    "    Sunny=0.2,\n",
    "    Cloudy=0.2,\n",
    "    Snowy=0.2,\n",
    "    Foggy=0.2\n",
    ")"
   ]
  },
  {
   "cell_type": "markdown",
   "id": "ed60b0a2",
   "metadata": {},
   "source": [
    "Baharin_Grand_Prix, Saudi_Grand_Prix, and Australian_Grand_Prix are ProbDist objects representing the probabilities of driver performances in each respective race."
   ]
  },
  {
   "cell_type": "code",
   "execution_count": 73,
   "id": "7b4a1d06",
   "metadata": {},
   "outputs": [],
   "source": [
    "Baharin_Grand_Prix = ProbDist(driver_points)\n",
    "Saudi_Grand_Prix = ProbDist(driver_points)\n",
    "Australian_Grand_Prix = ProbDist(driver_points)"
   ]
  },
  {
   "cell_type": "markdown",
   "id": "071b3792",
   "metadata": {},
   "source": [
    "The joint function calculates the joint probability distribution by taking multiple distributions and combining them.\n",
    "It takes multiple probability distributions as arguments and creates a joint distribution where outcomes are concatenated using a separator.\n",
    "In this case, it combines the probability distributions of driver performances and weather conditions for each race to obtain a joint distribution (SP) representing the performance of Red Bull in each race combined with the weather conditions."
   ]
  },
  {
   "cell_type": "code",
   "execution_count": 74,
   "id": "290b4dfa",
   "metadata": {},
   "outputs": [],
   "source": [
    "def joint(A, B, C, D, E, F, sep=''):\n",
    "    return ProbDist({\n",
    "        a + sep + b + sep + c + sep + d + sep + e + sep + f: A[a] * B[b] * C[c] * D[d] * E[e] * F[f]\n",
    "        for a in A\n",
    "        for b in B\n",
    "        for c in C\n",
    "        for d in D\n",
    "        for e in E\n",
    "        for f in F\n",
    "    })\n"
   ]
  },
  {
   "cell_type": "markdown",
   "id": "9a5ef648",
   "metadata": {},
   "source": [
    "Probability Calculation Functions:\n",
    "\n",
    "p, is_predicate, and such_that functions are defined to calculate probabilities and filter sample spaces based on predicates.\n",
    "p calculates the probability of an event given a sample space.\n",
    "is_predicate checks if an input is a predicate function.\n",
    "such_that filters the sample space according to the predicate."
   ]
  },
  {
   "cell_type": "code",
   "execution_count": 75,
   "id": "ec9d98ce",
   "metadata": {},
   "outputs": [],
   "source": [
    "def p(event, space):\n",
    "    \"\"\"Calculate the probability of an event given a sample space.\"\"\"\n",
    "    if is_predicate(event):\n",
    "        event = such_that(event, space)\n",
    "    if isinstance(space, ProbDist):\n",
    "        return sum(space[o] for o in space if o in event)\n",
    "    else:\n",
    "        return Fraction(len(event & space), len(space))\n",
    "\n",
    "def is_predicate(predicate):\n",
    "    return callable(predicate)\n",
    "\n",
    "def such_that(predicate, space):\n",
    "    if isinstance(space, ProbDist):\n",
    "        return ProbDist({o: space[o] for o in space if predicate(o)})\n",
    "    else:\n",
    "        return {o for o in space if predicate(o)}\n"
   ]
  },
  {
   "cell_type": "markdown",
   "id": "f0c2554a",
   "metadata": {},
   "source": [
    "Conditional probability is printed, indicating the likelihood of Red Bull winning all three races given they win at least one race on a rainy day.\n",
    "\n",
    "\n",
    "\n",
    "\n"
   ]
  },
  {
   "cell_type": "code",
   "execution_count": 76,
   "id": "e1162474",
   "metadata": {},
   "outputs": [
    {
     "name": "stdout",
     "output_type": "stream",
     "text": [
      "Conditional Probability (Red Bull wins all three races | wins at least one race on a rainy day): 0.20249710132579077\n"
     ]
    }
   ],
   "source": [
    "# Define a predicate for the event \"Red Bull wins at least one race on a rainy day\"\n",
    "def red_bull_atleast_one_rainy(outcome):\n",
    "    return 'MV-Rainy' in outcome or 'SP-Rainy' in outcome\n",
    "\n",
    "# Joint probability distribution of Red Bull performance in each race combined with weather conditions\n",
    "joint_prob = joint(Baharin_Grand_Prix, weather, Saudi_Grand_Prix, weather, Australian_Grand_Prix, weather, '-')\n",
    "\n",
    "# Calculate the probability of Red Bull winning at least one race on a rainy day\n",
    "p_redbull_atleast_one_rainy = p(red_bull_atleast_one_rainy, joint_prob)\n",
    "\n",
    "# Define a predicate for the event \"Red Bull wins all three races\"\n",
    "def red_bull_wins_all_three(outcome):\n",
    "    return outcome.count('MV') == 3 or outcome.count('SP') == 3\n",
    "\n",
    "# Calculate the probability of Red Bull winning all three races given that they win at least one race on a rainy day\n",
    "conditional_probability = p(red_bull_wins_all_three, such_that(red_bull_atleast_one_rainy, joint_prob)) / p_redbull_atleast_one_rainy\n",
    "\n",
    "# Print the conditional probability\n",
    "print(\"Conditional Probability (Red Bull wins all three races | wins at least one race on a rainy day):\", conditional_probability)\n"
   ]
  },
  {
   "cell_type": "markdown",
   "id": "208f191d",
   "metadata": {},
   "source": [
    "### Approach 2"
   ]
  },
  {
   "cell_type": "markdown",
   "id": "935e08cf",
   "metadata": {},
   "source": [
    "* In this approach, the function prob_rb_wins_all_three directly computes the conditional probability of Red Bull winning all three races given that they win at least one race on a rainy day. \n",
    "* It calculates the probabilities of various scenarios, including winning a single race, winning all three races in any weather condition, winning a race on a rainy day, and not winning on a rainy day. \n",
    "* Then, it combines these probabilities to compute the final conditional probability."
   ]
  },
  {
   "cell_type": "markdown",
   "id": "e7e436f1",
   "metadata": {},
   "source": [
    "A dictionary containing the probabilities of each driver (Red Bull's drivers) winning a single race. It is assumed to have keys 'MV' and 'SP' representing the two Red Bull drivers. It finds the probability of Red Bull wins all three season races given one is rainy event."
   ]
  },
  {
   "cell_type": "code",
   "execution_count": 77,
   "id": "f2a27dc6",
   "metadata": {},
   "outputs": [],
   "source": [
    "def prob_rb_wins_all_three(prob_drivers, weather_prob):\n",
    "    # Calculate probability of Red Bull winning a single race\n",
    "    prob_rb_win_single_race = prob_drivers['MV'] + prob_drivers['SP']\n",
    "    \n",
    "    # Calculate probability of Red Bull winning all three races in any weather condition\n",
    "    prob_rb_win_all_three_any_weather = prob_rb_win_single_race ** 3\n",
    "    \n",
    "    # Calculate probability of Red Bull winning a race on a rainy day\n",
    "    prob_rb_win_rainy = prob_rb_win_single_race * weather_prob['Rainy']\n",
    "    \n",
    "    # Calculate probability of Red Bull not winning on a rainy day\n",
    "    prob_rb_not_win_rainy = (1 - prob_rb_win_rainy) ** 3\n",
    "    \n",
    "    # Calculate probability of Red Bull winning at least one race on a rainy day\n",
    "    prob_rb_at_least_one_rainy = 1 - prob_rb_not_win_rainy\n",
    "    \n",
    "    # Calculate final probability of winning all three races given one win on a rainy day\n",
    "    prob_rb_all_three_given_one_rainy = prob_rb_win_all_three_any_weather / prob_rb_at_least_one_rainy\n",
    "    \n",
    "    return prob_rb_all_three_given_one_rainy\n"
   ]
  },
  {
   "cell_type": "markdown",
   "id": "f3f1a41e",
   "metadata": {},
   "source": [
    "Since the weather conditions on race tracks has an equal probability for each one of these weather events we are setting the season with 0.2 value."
   ]
  },
  {
   "cell_type": "code",
   "execution_count": 78,
   "id": "8e44b6fd",
   "metadata": {},
   "outputs": [],
   "source": [
    "# Define the probabilities of drivers and weather conditions\n",
    "prob_all_drivers = ProbDist(driver_points)\n",
    "weather = ProbDist({'Rainy': 0.2, 'Sunny': 0.2, 'Cloudy': 0.2, 'Snowy': 0.2, 'Foggy': 0.2})"
   ]
  },
  {
   "cell_type": "markdown",
   "id": "057ddd6e",
   "metadata": {},
   "source": [
    "Findiing the Probability of Red Bull winning all three races given at least one win on a rainy day"
   ]
  },
  {
   "cell_type": "code",
   "execution_count": 80,
   "id": "06461f7e",
   "metadata": {},
   "outputs": [
    {
     "name": "stdout",
     "output_type": "stream",
     "text": [
      "Probability of Red Bull winning all three races given at least one win on a rainy day: 0.2623613672390112\n"
     ]
    }
   ],
   "source": [
    "# Calculate the probability of Red Bull winning all three races given at least one win on a rainy day\n",
    "prob_rb_all_three_given_one_rainy = prob_rb_wins_all_three(prob_all_drivers, weather)\n",
    "print(\"Probability of Red Bull winning all three races given at least one win on a rainy day:\", prob_rb_all_three_given_one_rainy)"
   ]
  },
  {
   "cell_type": "markdown",
   "id": "83a93652",
   "metadata": {},
   "source": [
    "## Q 4"
   ]
  },
  {
   "cell_type": "markdown",
   "id": "00f43b0d",
   "metadata": {},
   "source": [
    "This class defines a probability distribution, where outcomes are mapped to their respective probabilities.\n",
    "When initialized, it updates the probability distribution with the given mapping and ensures that probabilities sum up to 1.\n",
    "It also asserts that probabilities are non-negative."
   ]
  },
  {
   "cell_type": "code",
   "execution_count": 83,
   "id": "cf832fb6",
   "metadata": {},
   "outputs": [],
   "source": [
    "class ProbDist(dict):\n",
    "    \"\"\"A Probability Distribution; an {outcome: probability} mapping.\"\"\"\n",
    "    def __init__(self, mapping=(), **kwargs):\n",
    "        self.update(mapping, **kwargs)\n",
    "        total = sum(self.values())\n",
    "        for outcome in self:\n",
    "            self[outcome] = self[outcome] / total\n",
    "            assert self[outcome] >= 0"
   ]
  },
  {
   "cell_type": "markdown",
   "id": "b0581e68",
   "metadata": {},
   "source": [
    "This dictionary contains the team points for the 2023 season, where the keys are team names and the values are their respective points."
   ]
  },
  {
   "cell_type": "code",
   "execution_count": null,
   "id": "144731c5",
   "metadata": {},
   "outputs": [],
   "source": [
    "# Define team points for the 2023 season\n",
    "team_points = {\n",
    "    'Red Bull': 860,\n",
    "    'Mercedes': 409,\n",
    "    'Ferrari': 406,\n",
    "    'McLaren': 302,\n",
    "    'Aston Martin': 280,\n",
    "    'Alpine': 120,\n",
    "    'Williams': 28,\n",
    "    'AlphaTauri': 25,\n",
    "    'Alfa Romeo': 16,\n",
    "    'Haas': 12\n",
    "}"
   ]
  },
  {
   "cell_type": "code",
   "execution_count": null,
   "id": "24407ef0",
   "metadata": {},
   "outputs": [],
   "source": [
    "# Define the probability distribution for team performance\n",
    "prob_teams = ProbDist(team_points)"
   ]
  },
  {
   "cell_type": "markdown",
   "id": "f23f65c6",
   "metadata": {},
   "source": [
    "This line retrieves the probability of Lewis Hamilton's performance from the existing probability distribution of driver performances (prob_all_drivers)."
   ]
  },
  {
   "cell_type": "code",
   "execution_count": null,
   "id": "bb12ca42",
   "metadata": {},
   "outputs": [],
   "source": [
    "lewis_performance_prob = prob_all_drivers['LH']"
   ]
  },
  {
   "cell_type": "markdown",
   "id": "178f27ea",
   "metadata": {},
   "source": [
    "Similarly, this line retrieves the probability of Ferrari's performance from the probability distribution of team performances (prob_teams)."
   ]
  },
  {
   "cell_type": "code",
   "execution_count": null,
   "id": "32302d19",
   "metadata": {},
   "outputs": [],
   "source": [
    "ferrari_team_prob = prob_teams['Ferrari']"
   ]
  },
  {
   "cell_type": "markdown",
   "id": "366269f9",
   "metadata": {},
   "source": [
    "ere, we calculate the predictive score for Lewis Hamilton at Ferrari by averaging his performance probability and Ferrari's team performance probability."
   ]
  },
  {
   "cell_type": "code",
   "execution_count": 84,
   "id": "8759f92b",
   "metadata": {},
   "outputs": [
    {
     "name": "stdout",
     "output_type": "stream",
     "text": [
      "Lewis at Ferrari Predictive Score: 0.13451822847540412\n"
     ]
    }
   ],
   "source": [
    "lewis_at_ferrari_predictive_score = (lewis_performance_prob + ferrari_team_prob) / 2\n",
    "\n",
    "print(f\"Lewis at Ferrari Predictive Score: {lewis_at_ferrari_predictive_score}\")\n"
   ]
  },
  {
   "cell_type": "markdown",
   "id": "abb81ddf",
   "metadata": {},
   "source": [
    "#### We can also predict Lewis performance based on certain aspects like major upgrades to the Ferrari Cars such as engine upgrades."
   ]
  },
  {
   "cell_type": "markdown",
   "id": "55e51047",
   "metadata": {},
   "source": [
    "This class represents a probability distribution, where each outcome is associated with a probability. The constructor __init__ normalizes the probabilities to ensure they sum up to 1.0."
   ]
  },
  {
   "cell_type": "code",
   "execution_count": 87,
   "id": "634a6c77",
   "metadata": {},
   "outputs": [],
   "source": [
    "class ProbDist(dict):\n",
    "    \"\"\"A Probability Distribution; an {outcome: probability} mapping.\"\"\"\n",
    "    def __init__(self, mapping=(), **kwargs):\n",
    "        self.update(mapping, **kwargs)\n",
    "        # Make probabilities sum to 1.0; assert no negative probabilities\n",
    "        total = sum(self.values())\n",
    "        for outcome in self:\n",
    "            self[outcome] = self[outcome] / total\n",
    "            assert self[outcome] >= 0\n"
   ]
  },
  {
   "cell_type": "markdown",
   "id": "7f6fe660",
   "metadata": {},
   "source": [
    "We define sample data for driver points and team points. Each driver/team is assigned a point value based on their performance in the 2023 season. This data will be used to analyze performance."
   ]
  },
  {
   "cell_type": "code",
   "execution_count": null,
   "id": "bb37e6aa",
   "metadata": {},
   "outputs": [],
   "source": [
    "\n",
    "# Sample data for driver points and team points\n",
    "driver_points = {\n",
    "    'MV': 575,\n",
    "    'SP': 285,\n",
    "    'LH': 234,\n",
    "}\n",
    "\n",
    "team_points = {\n",
    "    'Red Bull': 860,\n",
    "    'Mercedes': 409,\n",
    "    'Ferrari': 406,\n",
    "}\n",
    "\n",
    "# Sample function to analyze performance\n",
    "def analyze_performance(driver_data, team_data):\n",
    "    # Analyze Lewis Hamilton's performance\n",
    "    lewis_performance_prob = driver_data['LH'] / sum(driver_data.values())\n",
    "    \n",
    "    # Analyze Ferrari's performance\n",
    "    ferrari_team_prob = team_data['Ferrari'] / sum(team_data.values())\n",
    "    \n",
    "    return lewis_performance_prob, ferrari_team_prob"
   ]
  },
  {
   "cell_type": "markdown",
   "id": "d90ce56e",
   "metadata": {},
   "source": [
    "In this example, we assume Ferrari has made aerodynamic improvements and engine upgrades for the 2024 season. The function combines these improvements into a single value representing Ferrari's technical advancement."
   ]
  },
  {
   "cell_type": "code",
   "execution_count": 89,
   "id": "20f36547",
   "metadata": {},
   "outputs": [
    {
     "name": "stdout",
     "output_type": "stream",
     "text": [
      "Predicted performance for Lewis Hamilton at Ferrari in the 2024 season: 0.4031410133973642\n"
     ]
    }
   ],
   "source": [
    "def gather_technical_data():\n",
    "    # Research technical developments for Ferrari\n",
    "    ferrari_aero_improvement = 0.2\n",
    "    ferrari_engine_upgrade = 0.15\n",
    "    \n",
    "    ferrari_technical_advancement = (ferrari_aero_improvement + ferrari_engine_upgrade) / 2\n",
    "    \n",
    "    return ferrari_technical_advancement\n",
    "\n",
    "def predict_performance(driver_performance, team_performance, technical_data):\n",
    "    # Combine driver's and team's performance probabilities\n",
    "    lewis_at_ferrari_predictive_score = (driver_performance + team_performance) / 2\n",
    "    \n",
    "    # Incorporate technical advancements\n",
    "    predicted_performance = lewis_at_ferrari_predictive_score + technical_data\n",
    "    \n",
    "    return predicted_performance\n",
    "\n",
    "def main():\n",
    "    driver_performance, team_performance = analyze_performance(driver_points, team_points)\n",
    "\n",
    "    technical_data = gather_technical_data()\n",
    "\n",
    "    predicted_performance = predict_performance(driver_performance, team_performance, technical_data)\n",
    "    \n",
    "    # Output predicted performance\n",
    "    print(\"Predicted performance for Lewis Hamilton at Ferrari in the 2024 season:\", predicted_performance)\n",
    "\n",
    "if __name__ == \"__main__\":\n",
    "    main()\n"
   ]
  },
  {
   "cell_type": "markdown",
   "id": "9276d431",
   "metadata": {},
   "source": [
    "- The predictive score obtained represents an estimate of Lewis Hamilton's potential performance within the context of Ferrari's overall team performance. \n",
    "- However, it's important to note that predictions are inherently uncertain, and there are various factors that can influence actual performance, including driver skill, team dynamics, car performance, and external circumstances such as weather and track conditions.\n"
   ]
  },
  {
   "cell_type": "markdown",
   "id": "67cb6bf3",
   "metadata": {},
   "source": [
    "Check out [Why Hamilton to Ferrari is the Biggest Driver Transfer Ever](https://youtu.be/ABzwArIDmpI?si=fwfJKjVTzVDpFgYu)"
   ]
  },
  {
   "cell_type": "markdown",
   "id": "019bdf77",
   "metadata": {},
   "source": [
    "\n",
    "#####  Therefore, while the predictive score provides valuable insights, it should be interpreted with caution, and actual performance may vary. Ultimately, only the outcome of the 2024 Formula 1 season will determine how Lewis Hamilton and Ferrari fare together."
   ]
  }
 ],
 "metadata": {
  "kernelspec": {
   "display_name": "Python 3 (ipykernel)",
   "language": "python",
   "name": "python3"
  },
  "language_info": {
   "codemirror_mode": {
    "name": "ipython",
    "version": 3
   },
   "file_extension": ".py",
   "mimetype": "text/x-python",
   "name": "python",
   "nbconvert_exporter": "python",
   "pygments_lexer": "ipython3",
   "version": "3.11.5"
  }
 },
 "nbformat": 4,
 "nbformat_minor": 5
}
